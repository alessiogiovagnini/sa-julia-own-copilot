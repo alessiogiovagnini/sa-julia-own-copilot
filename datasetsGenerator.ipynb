{
 "cells": [
  {
   "cell_type": "code",
   "execution_count": 3,
   "metadata": {},
   "outputs": [
    {
     "name": "stdout",
     "output_type": "stream",
     "text": [
      "Datasets saved as train_set.csv, test_set.csv, and eval_set.csv.\n"
     ]
    }
   ],
   "source": [
    "import pandas as pd\n",
    "from sklearn.model_selection import train_test_split\n",
    "\n",
    "# Load the data into a Pandas DataFrame\n",
    "file_path = \"merged_julia_final.csv\"  # Update this path if necessary\n",
    "df = pd.read_csv(file_path)\n",
    "\n",
    "# Split the data into training, test, and evaluation sets (e.g., 70%, 20%, 10%)\n",
    "train_df, temp_df = train_test_split(df, test_size=0.3, random_state=42)\n",
    "test_df, eval_df = train_test_split(temp_df, test_size=0.333, random_state=42)  # 0.333 * 30% = ~10%\n",
    "\n",
    "# Save each subset to a separate CSV file\n",
    "train_df.to_csv(\"train_set.csv\", index=False)\n",
    "test_df.to_csv(\"test_set.csv\", index=False)\n",
    "eval_df.to_csv(\"eval_set.csv\", index=False)\n",
    "\n",
    "print(\"Datasets saved as train_set.csv, test_set.csv, and eval_set.csv.\")\n"
   ]
  },
  {
   "cell_type": "code",
   "execution_count": null,
   "metadata": {},
   "outputs": [
    {
     "name": "stdout",
     "output_type": "stream",
     "text": [
      "Datasets saved as train_set_doc.csv, test_set_doc.csv, and eval_set_doc.csv.\n"
     ]
    }
   ],
   "source": [
    "df = df.dropna()\n",
    "# Split the data into training, test, and evaluation sets (e.g., 70%, 20%, 10%)\n",
    "train_df_doc, temp_df_doc = train_test_split(df, test_size=0.3, random_state=42)\n",
    "test_df_doc, eval_df_doc = train_test_split(temp_df_nodoc, test_size=0.333, random_state=42)  # 0.333 * 30% = ~10%\n",
    "\n",
    "# Save each subset to a separate CSV file\n",
    "train_df_doc.to_csv(\"train_set_doc.csv\", index=False)\n",
    "test_df_doc.to_csv(\"test_set_doc.csv\", index=False)\n",
    "eval_df_doc.to_csv(\"eval_set_doc.csv\", index=False)\n",
    "\n",
    "print(\"Datasets saved as train_set_doc.csv, test_set_doc.csv, and eval_set_doc.csv.\")\n"
   ]
  },
  {
   "cell_type": "code",
   "execution_count": 5,
   "metadata": {},
   "outputs": [
    {
     "name": "stdout",
     "output_type": "stream",
     "text": [
      "Number of rows in training set: 697571\n",
      "Number of rows in test set: 199406\n",
      "Number of rows in evaluation set: 99554\n"
     ]
    }
   ],
   "source": [
    "print(f\"Number of rows in training set: {len(train_df)}\")\n",
    "print(f\"Number of rows in test set: {len(test_df)}\")\n",
    "print(f\"Number of rows in evaluation set: {len(eval_df)}\")"
   ]
  },
  {
   "cell_type": "code",
   "execution_count": 6,
   "metadata": {},
   "outputs": [
    {
     "name": "stdout",
     "output_type": "stream",
     "text": [
      "Number of rows in training set: 125048\n",
      "Number of rows in test set: 35745\n",
      "Number of rows in evaluation set: 17847\n"
     ]
    }
   ],
   "source": [
    "print(f\"Number of rows in training set: {len(train_df_doc)}\")\n",
    "print(f\"Number of rows in test set: {len(test_df_doc)}\")\n",
    "print(f\"Number of rows in evaluation set: {len(eval_df_doc)}\")"
   ]
  },
  {
   "cell_type": "code",
   "execution_count": null,
   "metadata": {},
   "outputs": [],
   "source": []
  }
 ],
 "metadata": {
  "kernelspec": {
   "display_name": "VAA",
   "language": "python",
   "name": "vaa"
  },
  "language_info": {
   "codemirror_mode": {
    "name": "ipython",
    "version": 3
   },
   "file_extension": ".py",
   "mimetype": "text/x-python",
   "name": "python",
   "nbconvert_exporter": "python",
   "pygments_lexer": "ipython3",
   "version": "3.12.2"
  }
 },
 "nbformat": 4,
 "nbformat_minor": 2
}
